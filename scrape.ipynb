{
 "cells": [
  {
   "cell_type": "code",
   "execution_count": 1,
   "metadata": {
    "collapsed": true
   },
   "outputs": [],
   "source": [
    "import wikipedia\n",
    "import pandas as pd\n",
    "#from urllib2 import urlopen\n",
    "#from bs4 import BeautifulSoup\n",
    "#import re\n",
    "#import requests"
   ]
  },
  {
   "cell_type": "code",
   "execution_count": 114,
   "metadata": {},
   "outputs": [
    {
     "data": {
      "text/plain": [
       "[u'Barack Obama',\n",
       " u'Family of Barack Obama',\n",
       " u'Barack Obama Sr.',\n",
       " u'Presidency of Barack Obama',\n",
       " u'Barack Obama citizenship conspiracy theories',\n",
       " u'Barack Obama Presidential Center',\n",
       " u'Barack Obama Supreme Court candidates',\n",
       " u'Speeches of Barack Obama',\n",
       " u'Early life and career of Barack Obama',\n",
       " u'Protests against Barack Obama']"
      ]
     },
     "execution_count": 114,
     "metadata": {},
     "output_type": "execute_result"
    }
   ],
   "source": [
    "search_key = \"Barack Obama\"\n",
    "wikipedia.search(search_key)"
   ]
  },
  {
   "cell_type": "code",
   "execution_count": 73,
   "metadata": {
    "collapsed": true
   },
   "outputs": [],
   "source": [
    "def get_para(word,listt):\n",
    "    for para in listt:\n",
    "        if word in para:\n",
    "            return get_para(word,para.split(\"\\n\\n\")) if \"\\n\\n\" in para else para"
   ]
  },
  {
   "cell_type": "code",
   "execution_count": 2,
   "metadata": {
    "collapsed": true
   },
   "outputs": [],
   "source": [
    "all_sites = set(wikipedia.search(\"Obama\")+ wikipedia.search(\"Barack\")+wikipedia.search(\"Barack Obama\"))"
   ]
  },
  {
   "cell_type": "code",
   "execution_count": 76,
   "metadata": {
    "collapsed": true
   },
   "outputs": [],
   "source": [
    "all_titles={}\n",
    "for site in all_sites:\n",
    "    curr_page = wikipedia.page(site)\n",
    "    all_titles[site] = filter(lambda i:i in curr_page.content,curr_page.links)"
   ]
  },
  {
   "cell_type": "code",
   "execution_count": 77,
   "metadata": {},
   "outputs": [
    {
     "data": {
      "text/plain": [
       "[u'Barack Obama',\n",
       " u'Barack Obama Supreme Court candidates',\n",
       " u'Barack Obama judicial appointment controversies',\n",
       " u'District of Columbia',\n",
       " u'Federal Judicial Center',\n",
       " u'Supreme Court of the United States',\n",
       " u'United States Court of Appeals for Veterans Claims',\n",
       " u'United States Court of Appeals for the Armed Forces',\n",
       " u'United States Court of Federal Claims',\n",
       " u'United States Court of International Trade',\n",
       " u'United States Court of Military Commission Review',\n",
       " u'United States Courts of Appeals',\n",
       " u'United States Senate',\n",
       " u'United States Tax Court',\n",
       " u'United States district courts',\n",
       " u'United States federal judge']"
      ]
     },
     "execution_count": 77,
     "metadata": {},
     "output_type": "execute_result"
    }
   ],
   "source": [
    "all_titles[list(all_sites)[0]]"
   ]
  },
  {
   "cell_type": "code",
   "execution_count": 88,
   "metadata": {},
   "outputs": [
    {
     "name": "stdout",
     "output_type": "stream",
     "text": [
      "100\n",
      "200\n",
      "300\n",
      "400\n",
      "500\n",
      "600\n",
      "700\n",
      "800\n",
      "900\n",
      "1000\n",
      "1100\n",
      "1200\n",
      "1300\n",
      "1400\n",
      "1500\n",
      "1600\n",
      "1700\n",
      "1800\n",
      "1900\n",
      "2000\n",
      "2100\n",
      "2200\n",
      "2300\n",
      "2400\n",
      "2500\n",
      "2600\n"
     ]
    }
   ],
   "source": [
    "page_links_paras=[]\n",
    "i=0\n",
    "for title in all_titles:\n",
    "    page_blocks = wikipedia.page(title).content.split(\"\\n\\n\\n\")\n",
    "    for page_name in all_titles[title]:\n",
    "        try:\n",
    "            url = wikipedia.page(page_name).url\n",
    "            para = get_para(page_name,page_blocks)\n",
    "            ind = para.find(page_name)\n",
    "            span = str(ind)+\"-\"+str(ind+len(page_name))\n",
    "            page_links_paras.append([page_name,url,para,span])\n",
    "            i=i+1\n",
    "            if i%100==0:\n",
    "                       print i\n",
    "        except:\n",
    "            continue"
   ]
  },
  {
   "cell_type": "code",
   "execution_count": 134,
   "metadata": {},
   "outputs": [
    {
     "data": {
      "text/plain": [
       "[u'Barack Obama',\n",
       " u'https://en.wikipedia.org/wiki/Barack_Obama',\n",
       " u'Following is a comprehensive list of all Article III and Article IV United States federal judges appointed by President Barack Obama during his presidency, as well as a partial list of Article I federal judicial appointments, excluding appointments to the District of Columbia judiciary.The total number of Obama Article III judgeship nominees to be confirmed by the United States Senate is 329, including two justices to the Supreme Court of the United States, 55 judges to the United States Courts of Appeals, 268 judges to the United States district courts, and four judges to the United States Court of International Trade. Obama did not make any recess appointments to the federal courts.\\nIn terms of Article I courts, Obama made 8 appointments to the United States Tax Court, 3 appointments to the United States Court of Federal Claims, 3 appointments to the United States Court of Appeals for Veterans Claims, 2 appointments to the United States Court of Military Commission Review, and 2 appointments to the United States Court of Appeals for the Armed Forces. He also elevated two chief judges of the Court of Federal Claims.\\nOn the Article IV territorial courts, he made two appointments and elevated one judge to the position of chief judge.',\n",
       " '120-132']"
      ]
     },
     "execution_count": 134,
     "metadata": {},
     "output_type": "execute_result"
    }
   ],
   "source": [
    "page_links_paras[0]"
   ]
  },
  {
   "cell_type": "code",
   "execution_count": 135,
   "metadata": {
    "collapsed": true
   },
   "outputs": [],
   "source": [
    "df_data = pd.DataFrame(page_links_paras, columns=['title','link','paragraph','span'])"
   ]
  },
  {
   "cell_type": "code",
   "execution_count": 107,
   "metadata": {},
   "outputs": [],
   "source": [
    "df_data = df_data.drop_duplicates(subset=['title','link'])"
   ]
  },
  {
   "cell_type": "code",
   "execution_count": 137,
   "metadata": {},
   "outputs": [],
   "source": [
    "df_data.to_csv(\"some_data.csv\",encoding='utf-8')"
   ]
  }
 ],
 "metadata": {
  "kernelspec": {
   "display_name": "Python 2",
   "language": "python",
   "name": "python2"
  },
  "language_info": {
   "codemirror_mode": {
    "name": "ipython",
    "version": 2
   },
   "file_extension": ".py",
   "mimetype": "text/x-python",
   "name": "python",
   "nbconvert_exporter": "python",
   "pygments_lexer": "ipython2",
   "version": "2.7.13"
  }
 },
 "nbformat": 4,
 "nbformat_minor": 2
}
